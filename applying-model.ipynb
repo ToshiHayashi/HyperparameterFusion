{
 "cells": [
  {
   "cell_type": "code",
   "execution_count": 1,
   "id": "c0149550-7e12-4f14-bc8b-0729aa468048",
   "metadata": {},
   "outputs": [
    {
     "name": "stderr",
     "output_type": "stream",
     "text": [
      "<frozen importlib._bootstrap>:219: RuntimeWarning: scipy._lib.messagestream.MessageStream size changed, may indicate binary incompatibility. Expected 56 from C header, got 64 from PyObject\n"
     ]
    }
   ],
   "source": [
    "import random\n",
    "import pandas as pd\n",
    "import numpy as np\n",
    "\n",
    "from sklearn.model_selection import train_test_split\n",
    "from sklearn.mixture import GaussianMixture\n",
    "from sklearn.metrics import precision_score,accuracy_score,roc_auc_score\n",
    "from sklearn.metrics import balanced_accuracy_score\n",
    "from tqdm import tqdm\n",
    "import pickle\n",
    "def makefile(what,filename):\n",
    "    with open(filename,\"wb\") as f3:\n",
    "        pickle.dump(what,f3)\n",
    "\n",
    "def readfile(filename):\n",
    "    with open(filename,\"rb\") as f4:\n",
    "        ans=pickle.load(f4)\n",
    "    return ans\n",
    "import random\n",
    "from sklearn.mixture import GaussianMixture\n",
    "from sklearn.ensemble import IsolationForest\n",
    "from sklearn.neighbors import LocalOutlierFactor\n",
    "from sklearn.svm import OneClassSVM\n",
    "import warnings\n",
    "warnings.filterwarnings(\"ignore\")\n",
    "from sklearn.cluster import KMeans"
   ]
  },
  {
   "cell_type": "code",
   "execution_count": null,
   "id": "5075f988-21fe-4871-96b2-58d0d697fdf6",
   "metadata": {},
   "outputs": [],
   "source": []
  },
  {
   "cell_type": "code",
   "execution_count": 208,
   "id": "830f64f7-712f-4913-8502-48c167083363",
   "metadata": {},
   "outputs": [
    {
     "name": "stdout",
     "output_type": "stream",
     "text": [
      "ecoli\n",
      "optical_digits\n",
      "satimage\n",
      "pen_digits\n",
      "abalone\n",
      "sick_euthyroid\n",
      "spectrometer\n",
      "car_eval_34\n",
      "isolet\n",
      "us_crime\n",
      "yeast_ml8\n",
      "scene\n",
      "libras_move\n",
      "thyroid_sick\n",
      "coil_2000\n",
      "arrhythmia\n",
      "solar_flare_m0\n",
      "oil\n",
      "car_eval_4\n",
      "wine_quality\n",
      "letter_img\n",
      "yeast_me2\n",
      "webpage\n",
      "ozone_level\n",
      "mammography\n",
      "protein_homo\n",
      "abalone_19\n"
     ]
    }
   ],
   "source": [
    "#checking the model size by saving the model\n",
    "positive_models=readfile(\"all_positive_models.pkl\")\n",
    "negative_models=readfile(\"all_negative_models.pkl\")\n",
    "e=0\n",
    "for word, pos_models, neg_models in zip(fetch_dataset, positive_models, negative_models):\n",
    "    print(word)\n",
    "    makefile(pos_models,\"models/\"+word+\"_pos.pkl\")\n",
    "    makefile(neg_models,\"models/\"+word+\"_neg.pkl\")"
   ]
  },
  {
   "cell_type": "code",
   "execution_count": 128,
   "id": "ea99463c-7bdb-4d52-86ef-b121e45d46a8",
   "metadata": {},
   "outputs": [
    {
     "name": "stdout",
     "output_type": "stream",
     "text": [
      "ecoli : 35 : 301 : 7\n",
      "negative\n",
      "optical_digits : 554 : 5066 : 64\n",
      "negative\n",
      "satimage : 626 : 5809 : 36\n",
      "negative\n",
      "pen_digits : 1055 : 9937 : 16\n",
      "negative\n",
      "abalone : 391 : 3786 : 10\n",
      "negative\n",
      "sick_euthyroid : 293 : 2870 : 42\n",
      "negative\n",
      "spectrometer : 45 : 486 : 93\n",
      "negative\n",
      "car_eval_34 : 134 : 1594 : 21\n",
      "negative\n",
      "isolet : 600 : 7197 : 617\n",
      "negative\n",
      "us_crime : 150 : 1844 : 100\n",
      "negative\n",
      "yeast_ml8 : 178 : 2239 : 103\n",
      "negative\n",
      "scene : 177 : 2230 : 294\n",
      "negative\n",
      "libras_move : 24 : 336 : 90\n",
      "negative\n",
      "thyroid_sick : 231 : 3541 : 52\n",
      "negative\n",
      "coil_2000 : 586 : 9236 : 85\n",
      "negative\n",
      "arrhythmia : 25 : 427 : 278\n",
      "negative\n",
      "solar_flare_m0 : 68 : 1321 : 32\n",
      "negative\n",
      "oil : 41 : 896 : 49\n",
      "negative\n",
      "car_eval_4 : 65 : 1663 : 21\n",
      "negative\n",
      "wine_quality : 183 : 4715 : 11\n",
      "negative\n",
      "letter_img : 734 : 19266 : 16\n",
      "negative\n",
      "yeast_me2 : 51 : 1433 : 8\n",
      "negative\n",
      "webpage : 981 : 33799 : 300\n",
      "negative\n",
      "ozone_level : 73 : 2463 : 72\n",
      "negative\n",
      "mammography : 260 : 10923 : 6\n",
      "negative\n",
      "protein_homo : 1296 : 144455 : 74\n",
      "negative\n",
      "abalone_19 : 32 : 4145 : 10\n",
      "negative\n",
      "CPU times: user 2d 2h 38min 20s, sys: 6min 37s, total: 2d 2h 44min 57s\n",
      "Wall time: 10h 58min 11s\n"
     ]
    }
   ],
   "source": [
    "#applying the model.\n",
    "#positive means minority, negative is majority\n",
    "%%time\n",
    "table_pos=[]\n",
    "table_neg=[]\n",
    "positive_models=readfile(\"all_positive_models.pkl\")\n",
    "negative_models=readfile(\"all_negative_models.pkl\")\n",
    "e=0\n",
    "for word, pos_models, neg_models in zip(fetch_dataset, positive_models, negative_models):\n",
    "    X=fetch_dataset[word][\"data\"]\n",
    "    Y=fetch_dataset[word][\"target\"]\n",
    "    print(word,\":\",len(X[Y==1]),\":\",len(X[Y==-1]),\":\",len(X[0]))\n",
    "    X=(X-X.min(axis=0))/(X.max(axis=0)-X.min(axis=0))\n",
    "    X[pd.isnull(X)]=0\n",
    "    random.seed(0)\n",
    "    d=len(X[0])\n",
    "    split=0.4\n",
    "    random_value=1\n",
    "    #This line should ensure the same split\n",
    "    X_train, X_test, y_train, y_test = train_test_split(X, Y, test_size=split, random_state=e,stratify=Y)\n",
    "    positive=X_train[y_train==1]\n",
    "    negative=X_train[y_train==-1]\n",
    "    score_mean=[]\n",
    "    score_std=[]\n",
    "    for n in range(115):\n",
    "        score=pos_models[n].score_samples(positive)\n",
    "        score_mean.append(score.mean())\n",
    "        score_std.append(score.std())\n",
    "         \n",
    "    AUC_table=np.zeros(116)\n",
    "    score_test=np.zeros(len(X_test))\n",
    "    for n in range(115):\n",
    "        score=pos_models[n].score_samples(X_test)\n",
    "        #print(roc_auc_score(y_test,score))\n",
    "        AUC_table[n]=roc_auc_score(y_test,score)\n",
    "        if score_std[n]==0:\n",
    "            pass\n",
    "        else:\n",
    "            score_test+=(score-score_mean[n])/(score_std[n])\n",
    "    \n",
    "    AUC_table[115]=roc_auc_score(y_test,score_test)\n",
    "    table_pos.append(AUC_table)\n",
    "    \n",
    "    print(\"negative\")\n",
    "    score_mean=[]\n",
    "    score_std=[]\n",
    "    for n in range(115):\n",
    "        score=neg_models[n].score_samples(negative)\n",
    "        score_mean.append(score.mean())\n",
    "        score_std.append(score.std())\n",
    "         \n",
    "    AUC_table=np.zeros(116)\n",
    "    score_test=np.zeros(len(X_test))\n",
    "    for n in range(115):\n",
    "        score=neg_models[n].score_samples(X_test)\n",
    "        #print(roc_auc_score(y_test,-score))\n",
    "        AUC_table[n]=roc_auc_score(y_test,-score)\n",
    "        if score_std[n]==0:\n",
    "            pass\n",
    "        else:\n",
    "            score_test+=(score-score_mean[n])/(score_std[n])\n",
    "    AUC_table[115]=roc_auc_score(y_test,-score_test)\n",
    "    table_neg.append(AUC_table)\n"
   ]
  },
  {
   "cell_type": "code",
   "execution_count": 175,
   "id": "fbbffee0-2231-41e3-baa9-0ea75cb42c20",
   "metadata": {},
   "outputs": [
    {
     "name": "stdout",
     "output_type": "stream",
     "text": [
      "83.94\n",
      "92.71\n",
      "86.59\n",
      "98.77\n",
      "81.74\n",
      "80.21\n",
      "50.57\n",
      "99.36\n",
      "94.03\n",
      "60.12\n",
      "52.55\n",
      "57.73\n",
      "78.28\n",
      "69.97\n",
      "53.69\n",
      "61.23\n",
      "58.77\n",
      "74.76\n",
      "99.87\n",
      "47.01\n",
      "92.48\n",
      "80.97\n",
      "67.62\n",
      "70.91\n",
      "82.44\n",
      "73.83\n",
      "73.23\n"
     ]
    }
   ],
   "source": [
    "for table in table_pos:\n",
    "    print(np.round(table[115]*100,2))"
   ]
  },
  {
   "cell_type": "code",
   "execution_count": 177,
   "id": "724b8a91-acd0-434c-873d-5483f69e035a",
   "metadata": {
    "scrolled": true
   },
   "outputs": [
    {
     "data": {
      "text/plain": [
       "0.7494046216459381"
      ]
     },
     "execution_count": 177,
     "metadata": {},
     "output_type": "execute_result"
    }
   ],
   "source": [
    "np.array(table_pos).mean(axis=0)[115]"
   ]
  },
  {
   "cell_type": "code",
   "execution_count": 178,
   "id": "0eda8236-1fa1-4ec7-84de-a90d28c2c8a7",
   "metadata": {},
   "outputs": [
    {
     "data": {
      "text/plain": [
       "0.6939013781146705"
      ]
     },
     "execution_count": 178,
     "metadata": {},
     "output_type": "execute_result"
    }
   ],
   "source": [
    "np.array(table_neg).mean(axis=0)[115]"
   ]
  },
  {
   "cell_type": "code",
   "execution_count": 176,
   "id": "1e43bc5d-890e-40c9-b17d-4a0e5d997ecc",
   "metadata": {},
   "outputs": [
    {
     "name": "stdout",
     "output_type": "stream",
     "text": [
      "52.07\n",
      "90.47\n",
      "58.97\n",
      "94.54\n",
      "64.19\n",
      "61.88\n",
      "58.32\n",
      "97.11\n",
      "76.49\n",
      "63.35\n",
      "49.27\n",
      "54.89\n",
      "77.61\n",
      "66.57\n",
      "53.01\n",
      "47.95\n",
      "78.52\n",
      "68.68\n",
      "98.79\n",
      "71.9\n",
      "88.17\n",
      "53.1\n",
      "86.0\n",
      "48.23\n",
      "82.32\n",
      "80.62\n",
      "50.51\n"
     ]
    }
   ],
   "source": [
    "for table in table_neg:\n",
    "    print(np.round(table[115]*100,2))"
   ]
  },
  {
   "cell_type": "code",
   "execution_count": null,
   "id": "b2f0b1d2-ae8b-4cc0-ba6b-080045a9acf4",
   "metadata": {},
   "outputs": [],
   "source": []
  }
 ],
 "metadata": {
  "kernelspec": {
   "display_name": "Python 3 (ipykernel)",
   "language": "python",
   "name": "python3"
  },
  "language_info": {
   "codemirror_mode": {
    "name": "ipython",
    "version": 3
   },
   "file_extension": ".py",
   "mimetype": "text/x-python",
   "name": "python",
   "nbconvert_exporter": "python",
   "pygments_lexer": "ipython3",
   "version": "3.8.16"
  }
 },
 "nbformat": 4,
 "nbformat_minor": 5
}
